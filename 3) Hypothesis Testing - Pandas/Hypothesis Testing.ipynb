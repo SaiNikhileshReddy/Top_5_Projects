{
 "cells": [
  {
   "cell_type": "markdown",
   "metadata": {},
   "source": [
    "---\n",
    "\n",
    "_You are currently looking at **version 1.1** of this notebook. To download notebooks and datafiles, as well as get help on Jupyter notebooks in the Coursera platform, visit the [Jupyter Notebook FAQ](https://www.coursera.org/learn/python-data-analysis/resources/0dhYG) course resource._\n",
    "\n",
    "---"
   ]
  },
  {
   "cell_type": "code",
   "execution_count": 1,
   "metadata": {
    "slideshow": {
     "slide_type": "notes"
    },
    "tags": [
     "Dependencies"
    ]
   },
   "outputs": [
    {
     "name": "stdout",
     "output_type": "stream",
     "text": [
      "Dependencies:-\n",
      "Pandas : 0.19.2\n",
      "Numpy  : 1.12.1\n",
      "Scipy  : 1.0.0\n"
     ]
    }
   ],
   "source": [
    "import pandas as pd\n",
    "import numpy as np\n",
    "from scipy.stats import ttest_ind\n",
    "print(\"Dependencies:-\")\n",
    "print(\"Pandas :\",pd.__version__)\n",
    "print(\"Numpy  :\",np.__version__)\n",
    "print(\"Scipy  :\",\"1.0.0\")"
   ]
  },
  {
   "cell_type": "markdown",
   "metadata": {},
   "source": [
    "# Assignment 4 - Hypothesis Testing\n",
    "This assignment requires more individual learning than previous assignments - you are encouraged to check out the [pandas documentation](http://pandas.pydata.org/pandas-docs/stable/) to find functions or methods you might not have used yet, or ask questions on [Stack Overflow](http://stackoverflow.com/) and tag them as pandas and python related. And of course, the discussion forums are open for interaction with your peers and the course staff.\n",
    "\n",
    "Definitions:\n",
    "* A _quarter_ is a specific three month period, Q1 is January through March, Q2 is April through June, Q3 is July through September, Q4 is October through December.\n",
    "* A _recession_ is defined as starting with two consecutive quarters of GDP decline, and ending with two consecutive quarters of GDP growth.\n",
    "* A _recession bottom_ is the quarter within a recession which had the lowest GDP.\n",
    "* A _university town_ is a city which has a high percentage of university students compared to the total population of the city.\n",
    "\n",
    "**Hypothesis**: University towns have their mean housing prices less effected by recessions. Run a t-test to compare the ratio of the mean price of houses in university towns the quarter before the recession starts compared to the recession bottom. (`price_ratio=quarter_before_recession/recession_bottom`)\n",
    "\n",
    "The following data files are available for this assignment:\n",
    "* From the [Zillow research data site](http://www.zillow.com/research/data/) there is housing data for the United States. In particular the datafile for [all homes at a city level](http://files.zillowstatic.com/research/public/City/City_Zhvi_AllHomes.csv)\n",
    ", ```City_Zhvi_AllHomes.csv```, has median home sale prices at a fine grained level.\n",
    "* From the Wikipedia page on college towns is a list of [university towns in the United States](https://en.wikipedia.org/wiki/List_of_college_towns#College_towns_in_the_United_States) which has been copy and pasted into the file ```university_towns.txt```.\n",
    "* From Bureau of Economic Analysis, US Department of Commerce, the [GDP over time](http://www.bea.gov/national/index.htm#gdp) of the United States in current dollars (use the chained value in 2009 dollars), in quarterly intervals, in the file ```gdplev.xls```. For this assignment, only look at GDP data from the first quarter of 2000 onward.\n",
    "\n",
    "Each function in this assignment below is worth 10%, with the exception of ```run_ttest()```, which is worth 50%."
   ]
  },
  {
   "cell_type": "code",
   "execution_count": 2,
   "metadata": {},
   "outputs": [],
   "source": [
    "# Use this dictionary to map state names to two letter acronyms\n",
    "states = {'OH': 'Ohio', 'KY': 'Kentucky', 'AS': 'American Samoa', 'NV': 'Nevada', 'WY': 'Wyoming', 'NA': 'National', 'AL': 'Alabama', 'MD': 'Maryland', 'AK': 'Alaska', 'UT': 'Utah', 'OR': 'Oregon', 'MT': 'Montana', 'IL': 'Illinois', 'TN': 'Tennessee', 'DC': 'District of Columbia', 'VT': 'Vermont', 'ID': 'Idaho', 'AR': 'Arkansas', 'ME': 'Maine', 'WA': 'Washington', 'HI': 'Hawaii', 'WI': 'Wisconsin', 'MI': 'Michigan', 'IN': 'Indiana', 'NJ': 'New Jersey', 'AZ': 'Arizona', 'GU': 'Guam', 'MS': 'Mississippi', 'PR': 'Puerto Rico', 'NC': 'North Carolina', 'TX': 'Texas', 'SD': 'South Dakota', 'MP': 'Northern Mariana Islands', 'IA': 'Iowa', 'MO': 'Missouri', 'CT': 'Connecticut', 'WV': 'West Virginia', 'SC': 'South Carolina', 'LA': 'Louisiana', 'KS': 'Kansas', 'NY': 'New York', 'NE': 'Nebraska', 'OK': 'Oklahoma', 'FL': 'Florida', 'CA': 'California', 'CO': 'Colorado', 'PA': 'Pennsylvania', 'DE': 'Delaware', 'NM': 'New Mexico', 'RI': 'Rhode Island', 'MN': 'Minnesota', 'VI': 'Virgin Islands', 'NH': 'New Hampshire', 'MA': 'Massachusetts', 'GA': 'Georgia', 'ND': 'North Dakota', 'VA': 'Virginia'}\n",
    "\n",
    "# Filtering gdplev.xls\n",
    "gdplev_columns = ['Unnamed: 4','GDP in billions of chained 2009 dollars.1']\n",
    "gdplev_df = pd.read_excel('gdplev.xls',skiprows=5).iloc[214:].reset_index()[gdplev_columns].rename(columns = {'Unnamed: 4':'Quaters','GDP in billions of chained 2009 dollars.1':'GDP'})\n",
    "\n",
    "# Filtering university_towns.txt\n",
    "txt_data = open('university_towns.txt')\n",
    "filtered_data = []\n",
    "for line in txt_data.readlines():\n",
    "    line = line.replace(\"€“\",\"\") # found those from debug dataset : https://www.coursera.org/learn/python-data-analysis/discussions/weeks/4/threads/QRjk3bKzEee5Ew6CaivGLg\n",
    "    if \"[edit]\" in line:\n",
    "        state = line[:line.find('[')]\n",
    "    else:\n",
    "        region = line[:line.find(' (')]\n",
    "        filtered_data.append((state,region))\n",
    "university_towns_df = pd.DataFrame(filtered_data,columns=[\"State\", \"RegionName\"])"
   ]
  },
  {
   "cell_type": "code",
   "execution_count": 3,
   "metadata": {
    "umich_part_id": "021",
    "umich_partlist_id": "004"
   },
   "outputs": [],
   "source": [
    "def get_list_of_university_towns():\n",
    "    '''Returns a DataFrame of towns and the states they are in from the \n",
    "    university_towns.txt list. The format of the DataFrame should be:\n",
    "    DataFrame( [ [\"Michigan\", \"Ann Arbor\"], [\"Michigan\", \"Yipsilanti\"] ], \n",
    "    columns=[\"State\", \"RegionName\"]  )\n",
    "    \n",
    "    The following cleaning needs to be done:\n",
    "\n",
    "    1. For \"State\", removing characters from \"[\" to the end.\n",
    "    2. For \"RegionName\", when applicable, removing every character from \" (\" to the end.\n",
    "    3. Depending on how you read the data, you may need to remove newline character '\\n'. '''\n",
    "    \n",
    "    return university_towns_df.copy()"
   ]
  },
  {
   "cell_type": "code",
   "execution_count": 4,
   "metadata": {},
   "outputs": [
    {
     "data": {
      "text/html": [
       "<div>\n",
       "<table border=\"1\" class=\"dataframe\">\n",
       "  <thead>\n",
       "    <tr style=\"text-align: right;\">\n",
       "      <th></th>\n",
       "      <th>0</th>\n",
       "      <th>1</th>\n",
       "      <th>2</th>\n",
       "      <th>3</th>\n",
       "      <th>4</th>\n",
       "      <th>5</th>\n",
       "      <th>6</th>\n",
       "      <th>7</th>\n",
       "      <th>8</th>\n",
       "      <th>9</th>\n",
       "      <th>...</th>\n",
       "      <th>507</th>\n",
       "      <th>508</th>\n",
       "      <th>509</th>\n",
       "      <th>510</th>\n",
       "      <th>511</th>\n",
       "      <th>512</th>\n",
       "      <th>513</th>\n",
       "      <th>514</th>\n",
       "      <th>515</th>\n",
       "      <th>516</th>\n",
       "    </tr>\n",
       "  </thead>\n",
       "  <tbody>\n",
       "    <tr>\n",
       "      <th>State</th>\n",
       "      <td>Alabama</td>\n",
       "      <td>Alabama</td>\n",
       "      <td>Alabama</td>\n",
       "      <td>Alabama</td>\n",
       "      <td>Alabama</td>\n",
       "      <td>Alabama</td>\n",
       "      <td>Alabama</td>\n",
       "      <td>Alabama</td>\n",
       "      <td>Alaska</td>\n",
       "      <td>Arizona</td>\n",
       "      <td>...</td>\n",
       "      <td>Wisconsin</td>\n",
       "      <td>Wisconsin</td>\n",
       "      <td>Wisconsin</td>\n",
       "      <td>Wisconsin</td>\n",
       "      <td>Wisconsin</td>\n",
       "      <td>Wisconsin</td>\n",
       "      <td>Wisconsin</td>\n",
       "      <td>Wisconsin</td>\n",
       "      <td>Wisconsin</td>\n",
       "      <td>Wyoming</td>\n",
       "    </tr>\n",
       "    <tr>\n",
       "      <th>RegionName</th>\n",
       "      <td>Auburn</td>\n",
       "      <td>Florence</td>\n",
       "      <td>Jacksonville</td>\n",
       "      <td>Livingston</td>\n",
       "      <td>Montevallo</td>\n",
       "      <td>Troy</td>\n",
       "      <td>Tuscaloosa</td>\n",
       "      <td>Tuskegee</td>\n",
       "      <td>Fairbanks</td>\n",
       "      <td>Flagstaff</td>\n",
       "      <td>...</td>\n",
       "      <td>Madison</td>\n",
       "      <td>Menomonie</td>\n",
       "      <td>Milwaukee</td>\n",
       "      <td>Oshkosh</td>\n",
       "      <td>Platteville</td>\n",
       "      <td>River Falls</td>\n",
       "      <td>Stevens Point</td>\n",
       "      <td>Waukesha</td>\n",
       "      <td>Whitewater</td>\n",
       "      <td>Laramie</td>\n",
       "    </tr>\n",
       "  </tbody>\n",
       "</table>\n",
       "<p>2 rows × 517 columns</p>\n",
       "</div>"
      ],
      "text/plain": [
       "                0         1             2           3           4        5    \\\n",
       "State       Alabama   Alabama       Alabama     Alabama     Alabama  Alabama   \n",
       "RegionName   Auburn  Florence  Jacksonville  Livingston  Montevallo     Troy   \n",
       "\n",
       "                   6         7          8          9     ...           507  \\\n",
       "State          Alabama   Alabama     Alaska    Arizona   ...     Wisconsin   \n",
       "RegionName  Tuscaloosa  Tuskegee  Fairbanks  Flagstaff   ...       Madison   \n",
       "\n",
       "                  508        509        510          511          512  \\\n",
       "State       Wisconsin  Wisconsin  Wisconsin    Wisconsin    Wisconsin   \n",
       "RegionName  Menomonie  Milwaukee    Oshkosh  Platteville  River Falls   \n",
       "\n",
       "                      513        514         515      516  \n",
       "State           Wisconsin  Wisconsin   Wisconsin  Wyoming  \n",
       "RegionName  Stevens Point   Waukesha  Whitewater  Laramie  \n",
       "\n",
       "[2 rows x 517 columns]"
      ]
     },
     "execution_count": 4,
     "metadata": {},
     "output_type": "execute_result"
    }
   ],
   "source": [
    "get_list_of_university_towns().T.head(3)"
   ]
  },
  {
   "cell_type": "code",
   "execution_count": 5,
   "metadata": {},
   "outputs": [
    {
     "name": "stderr",
     "output_type": "stream",
     "text": [
      "D:\\Anaconda\\envs\\learnpython\\lib\\site-packages\\pandas\\core\\indexing.py:141: SettingWithCopyWarning: \n",
      "A value is trying to be set on a copy of a slice from a DataFrame\n",
      "\n",
      "See the caveats in the documentation: http://pandas.pydata.org/pandas-docs/stable/indexing.html#indexing-view-versus-copy\n",
      "  self._setitem_with_indexer(indexer, value)\n"
     ]
    }
   ],
   "source": [
    "get_gdp = lambda x : gdplev_df.iloc[x]['GDP']\n",
    "gdplev_df['Diff'] = 0\n",
    "gdplev_df['Small_Diff'] = 0\n",
    "\n",
    "for index in range(1 , gdplev_df.shape[0]-1):\n",
    "    previous_year , present_year , next_year = get_gdp(index-1) , get_gdp(index) , get_gdp(index+1)\n",
    "    gdplev_df['Diff'].iloc[index] = present_year - previous_year\n",
    "    \n",
    "    if (previous_year > present_year):\n",
    "        gdplev_df['Small_Diff'].iloc[index] = -1\n",
    "    elif(previous_year < present_year):\n",
    "        gdplev_df['Small_Diff'].iloc[index] = 1"
   ]
  },
  {
   "cell_type": "code",
   "execution_count": 6,
   "metadata": {},
   "outputs": [],
   "source": [
    "def get_recession_details():\n",
    "    df = gdplev_df.copy()\n",
    "    get_gdp = lambda x : df.iloc[x]['Small_Diff']\n",
    "    \n",
    "    recession = []\n",
    "\n",
    "    for index in range(1 , df.shape[0]-2):\n",
    "        present_gdp , next_gdp = get_gdp(index), get_gdp(index+1)\n",
    "        if (present_gdp == -1 and next_gdp == -1):\n",
    "            \n",
    "            for sub_index in range(index+2,df.shape[0]-3):\n",
    "                sub_present_gdp , sub_next_gdp = get_gdp(sub_index), get_gdp(sub_index+1)\n",
    "                \n",
    "                if (sub_present_gdp == 1 and sub_next_gdp == 1):\n",
    "                    recession = [ index , sub_index+1 ]\n",
    "                    break\n",
    "\n",
    "            if len(recession) == 2:\n",
    "                break\n",
    "    return df.iloc[recession[0]:recession[1]+1]"
   ]
  },
  {
   "cell_type": "code",
   "execution_count": 7,
   "metadata": {},
   "outputs": [
    {
     "data": {
      "text/html": [
       "<div>\n",
       "<table border=\"1\" class=\"dataframe\">\n",
       "  <thead>\n",
       "    <tr style=\"text-align: right;\">\n",
       "      <th></th>\n",
       "      <th>Quaters</th>\n",
       "      <th>GDP</th>\n",
       "      <th>Diff</th>\n",
       "      <th>Small_Diff</th>\n",
       "    </tr>\n",
       "  </thead>\n",
       "  <tbody>\n",
       "    <tr>\n",
       "      <th>34</th>\n",
       "      <td>2008q3</td>\n",
       "      <td>14891.6</td>\n",
       "      <td>-71.8</td>\n",
       "      <td>-1</td>\n",
       "    </tr>\n",
       "    <tr>\n",
       "      <th>35</th>\n",
       "      <td>2008q4</td>\n",
       "      <td>14577.0</td>\n",
       "      <td>-314.6</td>\n",
       "      <td>-1</td>\n",
       "    </tr>\n",
       "    <tr>\n",
       "      <th>36</th>\n",
       "      <td>2009q1</td>\n",
       "      <td>14375.0</td>\n",
       "      <td>-202.0</td>\n",
       "      <td>-1</td>\n",
       "    </tr>\n",
       "    <tr>\n",
       "      <th>37</th>\n",
       "      <td>2009q2</td>\n",
       "      <td>14355.6</td>\n",
       "      <td>-19.4</td>\n",
       "      <td>-1</td>\n",
       "    </tr>\n",
       "    <tr>\n",
       "      <th>38</th>\n",
       "      <td>2009q3</td>\n",
       "      <td>14402.5</td>\n",
       "      <td>46.9</td>\n",
       "      <td>1</td>\n",
       "    </tr>\n",
       "    <tr>\n",
       "      <th>39</th>\n",
       "      <td>2009q4</td>\n",
       "      <td>14541.9</td>\n",
       "      <td>139.4</td>\n",
       "      <td>1</td>\n",
       "    </tr>\n",
       "  </tbody>\n",
       "</table>\n",
       "</div>"
      ],
      "text/plain": [
       "   Quaters      GDP   Diff  Small_Diff\n",
       "34  2008q3  14891.6  -71.8          -1\n",
       "35  2008q4  14577.0 -314.6          -1\n",
       "36  2009q1  14375.0 -202.0          -1\n",
       "37  2009q2  14355.6  -19.4          -1\n",
       "38  2009q3  14402.5   46.9           1\n",
       "39  2009q4  14541.9  139.4           1"
      ]
     },
     "execution_count": 7,
     "metadata": {},
     "output_type": "execute_result"
    }
   ],
   "source": [
    "get_recession_details()"
   ]
  },
  {
   "cell_type": "code",
   "execution_count": 8,
   "metadata": {
    "umich_part_id": "022",
    "umich_partlist_id": "004"
   },
   "outputs": [],
   "source": [
    "def get_recession_start():\n",
    "    \n",
    "    '''Returns the year and quarter of the recession start time as a \n",
    "    string value in a format such as 2005q3'''\n",
    "    \n",
    "    return get_recession_details().iloc[0]['Quaters']"
   ]
  },
  {
   "cell_type": "code",
   "execution_count": 9,
   "metadata": {},
   "outputs": [
    {
     "data": {
      "text/plain": [
       "'2008q3'"
      ]
     },
     "execution_count": 9,
     "metadata": {},
     "output_type": "execute_result"
    }
   ],
   "source": [
    "get_recession_start()"
   ]
  },
  {
   "cell_type": "code",
   "execution_count": 10,
   "metadata": {
    "umich_part_id": "023",
    "umich_partlist_id": "004"
   },
   "outputs": [],
   "source": [
    "def get_recession_end():\n",
    "    '''Returns the year and quarter of the recession end time as a \n",
    "    string value in a format such as 2005q3'''\n",
    "       \n",
    "    return get_recession_details().iloc[-1]['Quaters']"
   ]
  },
  {
   "cell_type": "code",
   "execution_count": 11,
   "metadata": {},
   "outputs": [
    {
     "data": {
      "text/plain": [
       "'2009q4'"
      ]
     },
     "execution_count": 11,
     "metadata": {},
     "output_type": "execute_result"
    }
   ],
   "source": [
    "get_recession_end()"
   ]
  },
  {
   "cell_type": "code",
   "execution_count": 12,
   "metadata": {
    "umich_part_id": "024",
    "umich_partlist_id": "004"
   },
   "outputs": [],
   "source": [
    "def get_recession_bottom():\n",
    "    '''Returns the year and quarter of the recession bottom time as a \n",
    "    string value in a format such as 2005q3'''\n",
    "    \n",
    "    return get_recession_details().sort_values(by=\"GDP\").iloc[0]['Quaters']"
   ]
  },
  {
   "cell_type": "code",
   "execution_count": 13,
   "metadata": {},
   "outputs": [
    {
     "data": {
      "text/plain": [
       "'2009q2'"
      ]
     },
     "execution_count": 13,
     "metadata": {},
     "output_type": "execute_result"
    }
   ],
   "source": [
    "get_recession_bottom()"
   ]
  },
  {
   "cell_type": "markdown",
   "metadata": {},
   "source": [
    "### Housing Data problem"
   ]
  },
  {
   "cell_type": "code",
   "execution_count": 14,
   "metadata": {
    "umich_part_id": "025",
    "umich_partlist_id": "004"
   },
   "outputs": [],
   "source": [
    "def convert_housing_data_to_quarters():\n",
    "    '''\n",
    "    Converts the housing data to quarters and returns it as mean \n",
    "    values in a dataframe. This dataframe should be a dataframe with\n",
    "    columns for 2000q1 through 2016q3, and should have a multi-index\n",
    "    in the shape of [\"State\",\"RegionName\"].\n",
    "    \n",
    "    Note: Quarters are defined in the assignment description, they are\n",
    "    not arbitrary three month periods.\n",
    "    \n",
    "    The resulting dataframe should have 67 columns, and 10,730 rows.\n",
    "    '''  \n",
    "    datadf = pd.read_csv('City_Zhvi_AllHomes.csv')\n",
    "    datadf = datadf.drop(datadf[[0]+list(range(3,51))] , axis = 1)\n",
    "    datadf['State'] = datadf.apply(lambda x: states[x[\"State\"]] , axis=1 )\n",
    "    \n",
    "    finaldf = datadf.copy()\n",
    "    #data_df.index += 1\n",
    "    \n",
    "    finaldf = finaldf[[\"State\",\"RegionName\"]].copy()\n",
    "    \n",
    "    for (index,year) in enumerate(range(2000,2016)):\n",
    "        finaldf[str(year)+\"q1\"] = datadf[[str(year)+\"-01\",str(year)+\"-02\",str(year)+\"-03\"]].mean(axis=1)\n",
    "        finaldf[str(year)+\"q2\"] = datadf[[str(year)+\"-04\",str(year)+\"-05\",str(year)+\"-06\"]].mean(axis=1)\n",
    "        finaldf[str(year)+\"q3\"] = datadf[[str(year)+\"-07\",str(year)+\"-08\",str(year)+\"-09\"]].mean(axis=1)\n",
    "        finaldf[str(year)+\"q4\"] = datadf[[str(year)+\"-10\",str(year)+\"-11\",str(year)+\"-12\"]].mean(axis=1)\n",
    "        \n",
    "    finaldf[\"2016q1\"] = datadf[[\"2016-01\",\"2016-02\",\"2016-03\"]].mean(axis=1)\n",
    "    finaldf[\"2016q2\"] = datadf[[\"2016-04\",\"2016-05\",\"2016-06\"]].mean(axis=1)\n",
    "    finaldf[\"2016q3\"] = datadf[[\"2016-07\",\"2016-08\"]].mean(axis=1)\n",
    "    finaldf = finaldf.set_index(['State','RegionName'])\n",
    "    return finaldf.copy()"
   ]
  },
  {
   "cell_type": "code",
   "execution_count": 15,
   "metadata": {
    "umich_part_id": "026",
    "umich_partlist_id": "004"
   },
   "outputs": [],
   "source": [
    "def run_ttest():\n",
    "    '''First creates new data showing the decline or growth of housing prices\n",
    "    between the recession start and the recession bottom. Then runs a ttest\n",
    "    comparing the university town values to the non-university towns values, \n",
    "    return whether the alternative hypothesis (that the two groups are the same)\n",
    "    is true or not as well as the p-value of the confidence. \n",
    "    \n",
    "    Return the tuple (different, p, better) where different=True if the t-test is\n",
    "    True at a p<0.01 (we reject the null hypothesis), or different=False if \n",
    "    otherwise (we cannot reject the null hypothesis). The variable p should\n",
    "    be equal to the exact p value returned from scipy.stats.ttest_ind(). The\n",
    "    value for better should be either \"university town\" or \"non-university town\"\n",
    "    depending on which has a lower mean price ratio (which is equivilent to a\n",
    "    reduced market loss).'''\n",
    "    \n",
    "    rec_start = get_recession_start()\n",
    "    rec_bottom = get_recession_bottom()\n",
    "\n",
    "    housing = convert_housing_data_to_quarters()\n",
    "    housing = housing[rec_start].div(housing[rec_bottom]) # price_ratio=quarter_before_recession/recession_bottom\n",
    "\n",
    "    uni = get_list_of_university_towns()\n",
    "    spam = list(zip(uni[\"State\"],uni[\"RegionName\"]))\n",
    "    filtr = housing.index.isin(spam)\n",
    "    uni_rec = housing[filtr].dropna()\n",
    "    nonuni_rec = housing[filtr != True].dropna()\n",
    "\n",
    "    p_value=ttest_ind(list(uni_rec),list(nonuni_rec))[1]\n",
    "\n",
    "    # p-test\n",
    "    status = True if p_value < 0.01 else False\n",
    "    category = \"university town\" if (uni_rec.mean() < nonuni_rec.mean()) else \"non-university town\"\n",
    "    return((status,p_value,category))"
   ]
  },
  {
   "cell_type": "code",
   "execution_count": 16,
   "metadata": {},
   "outputs": [
    {
     "data": {
      "text/plain": [
       "(True, 0.0054964273536938866, 'university town')"
      ]
     },
     "execution_count": 16,
     "metadata": {},
     "output_type": "execute_result"
    }
   ],
   "source": [
    "run_ttest()"
   ]
  },
  {
   "cell_type": "markdown",
   "metadata": {},
   "source": [
    "### Make sure you have 269 university towns and 10461 non-university towns in the final analysis."
   ]
  },
  {
   "cell_type": "code",
   "execution_count": 88,
   "metadata": {},
   "outputs": [
    {
     "name": "stdout",
     "output_type": "stream",
     "text": [
      "(True, 0.0054964273536938866, 'university town')\n"
     ]
    }
   ],
   "source": [
    "rec_start = get_recession_start()\n",
    "rec_bottom = get_recession_bottom()\n",
    "\n",
    "housing = convert_housing_data_to_quarters()\n",
    "housing = housing[rec_start].div(housing[rec_bottom]) # price_ratio=quarter_before_recession/recession_bottom\n",
    "\n",
    "uni = get_list_of_university_towns()\n",
    "spam = list(zip(uni[\"State\"],uni[\"RegionName\"]))\n",
    "filtr = housing.index.isin(spam)\n",
    "uni_rec = housing[filtr].dropna()\n",
    "nonuni_rec = housing[filtr != True].dropna()\n",
    "\n",
    "p_value=ttest_ind(list(uni_rec),list(nonuni_rec))[1]\n",
    "\n",
    "# p-test\n",
    "status = True if p_value < 0.01 else False\n",
    "category = \"university town\" if (uni_rec.mean() < nonuni_rec.mean()) else \"non-university town\"\n",
    "print((status,p_value,category))"
   ]
  },
  {
   "cell_type": "code",
   "execution_count": null,
   "metadata": {},
   "outputs": [],
   "source": []
  }
 ],
 "metadata": {
  "coursera": {
   "course_slug": "python-data-analysis",
   "graded_item_id": "Il9Fx",
   "launcher_item_id": "TeDW0",
   "part_id": "WGlun"
  },
  "kernelspec": {
   "display_name": "LearnPython",
   "language": "python",
   "name": "learnpython"
  },
  "language_info": {
   "codemirror_mode": {
    "name": "ipython",
    "version": 3
   },
   "file_extension": ".py",
   "mimetype": "text/x-python",
   "name": "python",
   "nbconvert_exporter": "python",
   "pygments_lexer": "ipython3",
   "version": "3.6.10"
  },
  "umich": {
   "id": "Assignment 4",
   "version": "1.1"
  }
 },
 "nbformat": 4,
 "nbformat_minor": 4
}
